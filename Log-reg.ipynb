{
 "cells": [
  {
   "cell_type": "markdown",
   "metadata": {},
   "source": [
    "Lab for HSE's ML course on coursera\n",
    "\n",
    "Here we implement a very simple binary classifier based on regularized gradient descent\n",
    "\n",
    "You can get the data from the course page here: https://www.coursera.org/learn/vvedenie-mashinnoe-obuchenie/programming/MptFX/loghistichieskaia-rieghriessiia (registration is probably required), or you may find your own data.\n",
    "\n",
    "Note that the classes must be 1 and -1 and there should be exactly 2 features (This is silly, but enought for the task) "
   ]
  },
  {
   "cell_type": "code",
   "execution_count": 1,
   "metadata": {},
   "outputs": [],
   "source": [
    "import numpy as np\n",
    "import pandas as pd\n",
    "from sklearn.metrics import roc_auc_score"
   ]
  },
  {
   "cell_type": "code",
   "execution_count": 2,
   "metadata": {},
   "outputs": [],
   "source": [
    "data = pd.read_csv(\"data-logistic.csv\",header=None)"
   ]
  },
  {
   "cell_type": "code",
   "execution_count": 3,
   "metadata": {},
   "outputs": [],
   "source": [
    "def grad_desc(data,target,C=10,step=0.1,init=[0,0],eps=1e-5,max_iter=1e5):\n",
    "    \"\"\"Regularized gradient descent\n",
    "    C - regularization coefficient\n",
    "    step - step size\n",
    "    init - initial guess\n",
    "    eps - precision (if |x-x0|<eps they are considired as equal and algorithm stops updating x)\n",
    "    max_iter - maximum iterations after which algorithm returns x\n",
    "    \"\"\"\n",
    "    w0 = np.array(init, dtype=float)\n",
    "    l = len(data)\n",
    "    w = np.array(init,dtype=float)\n",
    "    k=step\n",
    "    t = np.array(target)\n",
    "    d = np.array(data)\n",
    "    w[0] = w[0]+np.sum(t*d[:,0]*(1-1/(1+np.exp(-t*(w[0]*d[:,0]+w[1]*d[:,1])))))/l*k-k*C*w[0]\n",
    "    w[1] = w[1]+np.sum(t*d[:,1]*(1-1/(1+np.exp(-t*(w[0]*d[:,0]+w[1]*d[:,1])))))/l*k-k*C*w[1]\n",
    "    it = 0;\n",
    "    while abs(np.sum(w*w-w0*w0))>eps and it<max_iter:\n",
    "        w0=w.copy()\n",
    "        w[0] = w[0]+np.sum(t*d[:,0]*(1-1/(1+np.exp(-t*(w[0]*d[:,0]+w[1]*d[:,1])))))/l*k-k*C*w[0]\n",
    "        w[1] = w[1]+np.sum(t*d[:,1]*(1-1/(1+np.exp(-t*(w[0]*d[:,0]+w[1]*d[:,1])))))/l*k-k*C*w[1]\n",
    "        it+=1\n",
    "    return (w, it)"
   ]
  },
  {
   "cell_type": "code",
   "execution_count": 4,
   "metadata": {},
   "outputs": [],
   "source": [
    "import math\n",
    "def prob(x,w):\n",
    "    \"\"\"Determines the probability that the given x belongs to class +1 \n",
    "    \"\"\"\n",
    "    x=np.array(x)\n",
    "    return 1/(1+np.exp(-w[0]*x[:,0]-w[1]*x[:,1]))"
   ]
  },
  {
   "cell_type": "code",
   "execution_count": 5,
   "metadata": {},
   "outputs": [],
   "source": [
    "target = data[0]\n",
    "data = data.drop(labels = [0], axis=1)"
   ]
  },
  {
   "cell_type": "code",
   "execution_count": 6,
   "metadata": {},
   "outputs": [
    {
     "name": "stdout",
     "output_type": "stream",
     "text": [
      "[0.02856457 0.02478041]\n",
      "4\n"
     ]
    }
   ],
   "source": [
    "res = grad_desc(data,target,step=0.1)\n",
    "w0 = res[0]\n",
    "print(w0)\n",
    "print(res[1])"
   ]
  },
  {
   "cell_type": "code",
   "execution_count": 7,
   "metadata": {},
   "outputs": [
    {
     "name": "stdout",
     "output_type": "stream",
     "text": [
      "[0.28713525 0.09259714]\n",
      "186\n"
     ]
    }
   ],
   "source": [
    "res = grad_desc(data,target,C=0, step=0.1)\n",
    "w1 = res[0]\n",
    "print(w1)\n",
    "print(res[1])"
   ]
  },
  {
   "cell_type": "code",
   "execution_count": 8,
   "metadata": {},
   "outputs": [
    {
     "data": {
      "text/plain": [
       "0.936"
      ]
     },
     "execution_count": 8,
     "metadata": {},
     "output_type": "execute_result"
    }
   ],
   "source": [
    "round(roc_auc_score(target,prob(data,w0)),3)"
   ]
  },
  {
   "cell_type": "code",
   "execution_count": 10,
   "metadata": {},
   "outputs": [
    {
     "data": {
      "text/plain": [
       "0.927"
      ]
     },
     "execution_count": 10,
     "metadata": {},
     "output_type": "execute_result"
    }
   ],
   "source": [
    "round(roc_auc_score(target,prob(data,w1)),3)"
   ]
  }
 ],
 "metadata": {
  "kernelspec": {
   "display_name": "Python 3",
   "language": "python",
   "name": "python3"
  },
  "language_info": {
   "codemirror_mode": {
    "name": "ipython",
    "version": 3
   },
   "file_extension": ".py",
   "mimetype": "text/x-python",
   "name": "python",
   "nbconvert_exporter": "python",
   "pygments_lexer": "ipython3",
   "version": "3.6.4"
  }
 },
 "nbformat": 4,
 "nbformat_minor": 2
}
