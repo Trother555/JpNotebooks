{
 "cells": [
  {
   "cell_type": "markdown",
   "metadata": {},
   "source": [
    "## Explanations\n",
    "\n",
    "1. Identifying samples with distored ratio.\n",
    "    \n",
    "In order to detect ratio distorted in samples I used the following simple approach:\n",
    "1. Normalize the ratio random variable (i.e. subtract mean and divide by sigma)\n",
    "2. Pick values beyond the given theshold (1 by default, which approx. equals to 60% of sample).\n",
    "3. Count how many samples are greater and less than 1.\n",
    "4. If those greater than 1 prevail pick them, else pick those less than 1.\n",
    "\n",
    "Step 2 implies that most of samples are good. Steps 3 and 4 ensure that the ratio remains same in case of small deviations.\n",
    "\n",
    "Function find_destored_peptides implements this idea. It shows some warnings about zero division and nan comparations, but it's fine as we are using masks. There's an issue about np.ma warnings: https://github.com/numpy/numpy/issues/4959\n",
    "\n",
    "2. Propose a mechanism for correcting the intensity of individual fragments based on their ratios.\n",
    "\n",
    "First, we need to find a distorted fragment. Using the method from task 1. for a single sample S we can find what ratios have been distored. Suppose S have 4 fragments: f1, f2, f3, f4. Then we should have 3 ratios: f1/f2, f2/f3, f3/f4 and 3 bool values indicating the distortion of corresponding catios: [A, B, C]. There are few situations possible:\n",
    "    1. One of A, B, C is true and others are false. That means that only single fragment has been distorted. If, for instance, A=true, B,C=false then f1 is distorted. \n",
    "    2. Two of A, B, C are true. In that case we can exclude one undistorted fragment (let it be f1 for instance). Then we might compute rartios: f2/f1, f3/f1, f4/f1. Now we now for sure that f1 is undistorted and hence if f2/f1 is distorted then f2 is distorted etc.\n",
    "    3. All of A, B, C are true. We should rearrange ratios so that at least one of them is undistorted and go to step 2. If we can't find undistorted ratios that means that most of the measurements were bad and there's nothing we ca do.\n",
    "The above algorithm could be generalized for any number of fragments. \n",
    "\n",
    "Now we have distorted fragments detected. In order to correct the intensity values we can simply set it to value that makes a correct ratio. Say f2 is distorted and f1 is not. We know the mean M of f1/f2 among the samples, then for a given sample we set f2 = f1/M."
   ]
  },
  {
   "cell_type": "code",
   "execution_count": 1,
   "metadata": {},
   "outputs": [],
   "source": [
    "import pandas as pd\n",
    "import numpy as np\n",
    "from collections import defaultdict\n",
    "import matplotlib.pyplot as plt "
   ]
  },
  {
   "cell_type": "code",
   "execution_count": 2,
   "metadata": {},
   "outputs": [],
   "source": [
    "df = pd.read_excel('test_data.xlsx')"
   ]
  },
  {
   "cell_type": "code",
   "execution_count": 3,
   "metadata": {},
   "outputs": [],
   "source": [
    "def find_distorted_peptides(df, std_threshold=1):\n",
    "    res = defaultdict(lambda: {})\n",
    "    # for each peptide\n",
    "    for p in df['Peptide'].unique():\n",
    "        # for each peptide label\n",
    "        for label in ['Heavy', 'Light']:\n",
    "            # all intensity measurments for this peptide\n",
    "            samples = df[(df['Peptide'] == p)&(df['Label'] == label)]\n",
    "            # names of peptide's fragments\n",
    "            fragments = samples['Fragment']\n",
    "            # all intensity values for this peptide\n",
    "            intensities = samples.iloc[:,3:].values\n",
    "            # all ratios for consecutive pairs of fragments (i.e. f1/f2, f2/f3, f3/f4 etc.)\n",
    "            ratios = intensities[:-1, :]/intensities[1:, :]\n",
    "            # mask inf/nan\n",
    "            m = np.ma.masked_invalid(ratios)\n",
    "            # count how far a single measurement from its mean in its std scale\n",
    "            stds = (np.abs(m - m.mean(axis=1, keepdims=True))/\n",
    "                    m.std(axis=1, keepdims=True))\n",
    "            \n",
    "            dest_samples = set()\n",
    "            for s, r in zip(stds, ratios):\n",
    "                goods = np.where((np.isfinite(r))&(s.data<=std_threshold), r, np.nan)\n",
    "                lt_1 = (goods<1).sum()\n",
    "                gt_1 = (goods>1).sum()\n",
    "                if lt_1 > gt_1:\n",
    "                    dest_samples.update(np.argwhere((~s.mask)&(r>=1)).reshape(-1))\n",
    "                else:\n",
    "                    # not good: what if we have lt_1 == gt_1? \n",
    "                    # we need to think more then\n",
    "                    dest_samples.update(np.argwhere((~s.mask)&(r<=1)).reshape(-1))\n",
    "                dest_samples.update(np.argwhere((~s.mask)&(s>std_threshold)).reshape(-1))\n",
    "                dest_samples.update(np.argwhere(s.mask).reshape(-1))\n",
    "            res[p][label] = [f'S{it+2}' for it in dest_samples]\n",
    "    \n",
    "    return res"
   ]
  },
  {
   "cell_type": "code",
   "execution_count": 4,
   "metadata": {},
   "outputs": [
    {
     "name": "stderr",
     "output_type": "stream",
     "text": [
      "C:\\ProgramData\\Anaconda3\\lib\\site-packages\\ipykernel_launcher.py:24: RuntimeWarning: invalid value encountered in less\n",
      "C:\\ProgramData\\Anaconda3\\lib\\site-packages\\ipykernel_launcher.py:25: RuntimeWarning: invalid value encountered in greater\n",
      "C:\\ProgramData\\Anaconda3\\lib\\site-packages\\ipykernel_launcher.py:14: RuntimeWarning: divide by zero encountered in true_divide\n",
      "  \n",
      "C:\\ProgramData\\Anaconda3\\lib\\site-packages\\ipykernel_launcher.py:14: RuntimeWarning: invalid value encountered in true_divide\n",
      "  \n",
      "C:\\ProgramData\\Anaconda3\\lib\\site-packages\\ipykernel_launcher.py:23: RuntimeWarning: invalid value encountered in less_equal\n",
      "C:\\ProgramData\\Anaconda3\\lib\\site-packages\\ipykernel_launcher.py:31: RuntimeWarning: invalid value encountered in less_equal\n",
      "C:\\ProgramData\\Anaconda3\\lib\\site-packages\\ipykernel_launcher.py:32: RuntimeWarning: invalid value encountered in greater\n"
     ]
    }
   ],
   "source": [
    "r = find_distorted_peptides(df, std_threshold=1)"
   ]
  },
  {
   "cell_type": "markdown",
   "metadata": {},
   "source": [
    "Let's take a look at some peptided to see how it works."
   ]
  },
  {
   "cell_type": "code",
   "execution_count": 5,
   "metadata": {},
   "outputs": [],
   "source": [
    "def plot_peptide(df, p, l):\n",
    "    \"\"\"Plot peptide's intensity peaks\"\"\"\n",
    "    samples = df[(df['Peptide'] == p)&(df['Label'] == l)]\n",
    "    intensities = samples.iloc[:,3:].values\n",
    "    colors = ['red', 'green', 'blue', 'yellow', 'purple', 'black']\n",
    "    for i in range(intensities.shape[0]):\n",
    "        plt.plot(intensities[i], 'ro', color=colors[i])"
   ]
  },
  {
   "cell_type": "markdown",
   "metadata": {},
   "source": [
    "### Peptide 2"
   ]
  },
  {
   "cell_type": "code",
   "execution_count": 6,
   "metadata": {},
   "outputs": [
    {
     "data": {
      "image/png": "[encoded data removed]",
      "text/plain": [
       "<Figure size 432x288 with 1 Axes>"
      ]
     },
     "metadata": {
      "needs_background": "light"
     },
     "output_type": "display_data"
    }
   ],
   "source": [
    "plot_peptide(df, 'P2', 'Heavy')"
   ]
  },
  {
   "cell_type": "code",
   "execution_count": 7,
   "metadata": {},
   "outputs": [
    {
     "data": {
      "image/png": "[encoded data removed]",
      "text/plain": [
       "<Figure size 432x288 with 1 Axes>"
      ]
     },
     "metadata": {
      "needs_background": "light"
     },
     "output_type": "display_data"
    }
   ],
   "source": [
    "# drop intensities with distorted ratios\n",
    "plot_peptide(df.drop(r['P2']['Heavy'], axis=1), 'P2', 'Heavy')"
   ]
  },
  {
   "cell_type": "markdown",
   "metadata": {},
   "source": [
    "### Peptide 15\n",
    "We can clearly see distorted peaks at the plot below and good peaks after dropping bad ones out."
   ]
  },
  {
   "cell_type": "code",
   "execution_count": 8,
   "metadata": {},
   "outputs": [
    {
     "data": {
      "image/png": "[encoded data removed]",
      "text/plain": [
       "<Figure size 432x288 with 1 Axes>"
      ]
     },
     "metadata": {
      "needs_background": "light"
     },
     "output_type": "display_data"
    }
   ],
   "source": [
    "plot_peptide(df, 'P15', 'Heavy')"
   ]
  },
  {
   "cell_type": "code",
   "execution_count": 9,
   "metadata": {},
   "outputs": [
    {
     "data": {
      "image/png": "[encoded data removed]",
      "text/plain": [
       "<Figure size 432x288 with 1 Axes>"
      ]
     },
     "metadata": {
      "needs_background": "light"
     },
     "output_type": "display_data"
    }
   ],
   "source": [
    "# drop intensities with distorted ratios\n",
    "plot_peptide(df.drop(r['P15']['Heavy'], axis=1), 'P15', 'Heavy')"
   ]
  }
 ],
 "metadata": {
  "kernelspec": {
   "display_name": "Python 3",
   "language": "python",
   "name": "python3"
  },
  "language_info": {
   "codemirror_mode": {
    "name": "ipython",
    "version": 3
   },
   "file_extension": ".py",
   "mimetype": "text/x-python",
   "name": "python",
   "nbconvert_exporter": "python",
   "pygments_lexer": "ipython3",
   "version": "3.7.0"
  }
 },
 "nbformat": 4,
 "nbformat_minor": 2
}
